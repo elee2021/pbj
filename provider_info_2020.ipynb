{
 "cells": [
  {
   "cell_type": "code",
   "execution_count": 3,
   "id": "de73982c",
   "metadata": {},
   "outputs": [],
   "source": [
    "import pandas as pd"
   ]
  },
  {
   "cell_type": "code",
   "execution_count": 4,
   "id": "26b5d36a",
   "metadata": {},
   "outputs": [],
   "source": [
    "df_11_20 = pd.read_csv(\"2020/NH_ProviderInfo_Nov2020.csv\", sep=\",\", encoding='cp1252')\n",
    "df_10_20 = pd.read_csv(\"2020/NH_ProviderInfo_Oct2020.csv\", sep=\",\", encoding='cp1252')\n",
    "df_09_20 = pd.read_csv(\"2020/NH_ProviderInfo_Sep2020.csv\", sep=\",\", encoding='cp1252')\n",
    "df_08_20 = pd.read_csv(\"2020/NH_ProviderInfo_Aug2020.csv\", sep=\",\", encoding='cp1252')\n",
    "df_07_20 = pd.read_csv(\"2020/NH_ProviderInfo_Jul2020.csv\", sep=\",\", encoding='cp1252')\n",
    "df_06_20 = pd.read_csv(\"2020/NH_ProviderInfo_Jun2020.csv\", sep=\",\", encoding='cp1252')\n",
    "df_05_20 = pd.read_csv(\"2020/NH_ProviderInfo_May2020.csv\", sep=\",\", encoding='cp1252')\n",
    "df_04_20 = pd.read_csv(\"2020/NH_ProviderInfo_Apr2020.csv\", sep=\",\", encoding='cp1252')\n",
    "df_03_20 = pd.read_csv(\"2020/NH_ProviderInfo_Mar2020.csv\", sep=\",\", encoding='cp1252')\n",
    "df_02_20 = pd.read_csv(\"2020/NH_ProviderInfo_Feb2020.csv\", sep=\",\", encoding='cp1252')\n",
    "df_01_20 = pd.read_csv(\"2020/NH_ProviderInfo_Jan2020.csv\", sep=\",\", encoding='cp1252')"
   ]
  },
  {
   "cell_type": "code",
   "execution_count": 5,
   "id": "6a9a706e",
   "metadata": {},
   "outputs": [],
   "source": [
    "def add_month_year(df, month, year):\n",
    "    df['year'] = year\n",
    "    df['month'] = month\n",
    "    \n",
    "    return df"
   ]
  },
  {
   "cell_type": "code",
   "execution_count": 6,
   "id": "7ec73445",
   "metadata": {},
   "outputs": [],
   "source": [
    "df_01_20 = add_month_year(df_01_20, 1, 2020)\n",
    "df_02_20 = add_month_year(df_02_20, 2, 2020)\n",
    "df_03_20 = add_month_year(df_03_20, 3, 2020)\n",
    "df_04_20 = add_month_year(df_04_20, 4, 2020)\n",
    "df_05_20 = add_month_year(df_05_20, 5, 2020)\n",
    "df_06_20 = add_month_year(df_06_20, 6, 2020)\n",
    "df_07_20 = add_month_year(df_07_20, 7, 2020)\n",
    "df_08_20 = add_month_year(df_08_20, 8, 2020)\n",
    "df_09_20 = add_month_year(df_09_20, 9, 2020)\n",
    "df_10_20 = add_month_year(df_10_20, 10, 2020)\n",
    "df_11_20 = add_month_year(df_11_20, 11, 2020)"
   ]
  },
  {
   "cell_type": "code",
   "execution_count": 7,
   "id": "f33a8356",
   "metadata": {},
   "outputs": [],
   "source": [
    "features = ['Federal Provider Number', 'Provider Name','Provider City', 'Provider State', 'Provider Zip Code',\n",
    "            'Provider SSA County Code','Provider County Name', 'Ownership Type', 'Number of Certified Beds',\n",
    "       'Average Number of Residents per Day', 'Provider Type','month', 'year']"
   ]
  },
  {
   "cell_type": "code",
   "execution_count": 8,
   "id": "5f8d9cb1",
   "metadata": {},
   "outputs": [],
   "source": [
    "def rename(df):\n",
    "    df_copy = df.copy()\n",
    "    df_copy = df_copy.rename(columns={'PROVNUM': 'Federal Provider Number' , 'PROVNAME':'Provider Name', 'CITY': 'Provider City',\n",
    "                            'STATE': 'Provider State', 'ZIP': 'Provider Zip Code', 'COUNTY_SSA':'Provider SSA County Code',\n",
    "                            'County_name':'Provider County Name', 'OWNERSHIP':'Ownership Type', 'BEDCERT':'Number of Certified Beds',\n",
    "                            'RESTOT': 'Average Number of Residents per Day', 'CERTIFICATION': 'Provider Type'})\n",
    "    return df_copy"
   ]
  },
  {
   "cell_type": "code",
   "execution_count": 9,
   "id": "6119ea8e",
   "metadata": {},
   "outputs": [],
   "source": [
    "df_07_20 = rename(df_07_20)\n",
    "df_06_20 = rename(df_06_20)\n",
    "df_05_20 = rename(df_05_20)\n",
    "df_04_20 = rename(df_04_20)\n",
    "df_03_20 = rename(df_03_20)\n",
    "df_02_20 = rename(df_02_20)\n",
    "df_01_20 = rename(df_01_20)"
   ]
  },
  {
   "cell_type": "code",
   "execution_count": 10,
   "id": "0aa78e0e",
   "metadata": {},
   "outputs": [],
   "source": [
    "df_jan_to_jul_2020 = pd.concat([df_07_20, df_06_20, df_05_20, df_04_20, df_03_20, df_02_20, df_01_20])"
   ]
  },
  {
   "cell_type": "code",
   "execution_count": 14,
   "id": "6e8a2d38",
   "metadata": {},
   "outputs": [],
   "source": [
    "df_jan_to_jul_2020.to_csv('2020/jan_to_jul_2020_name_partially_changed.csv', index=False)"
   ]
  },
  {
   "cell_type": "code",
   "execution_count": 12,
   "id": "5491eb03",
   "metadata": {},
   "outputs": [],
   "source": [
    "df_aug_to_nov_2020 = pd.concat([df_08_20, df_09_20, df_10_20, df_11_20])"
   ]
  },
  {
   "cell_type": "code",
   "execution_count": 15,
   "id": "cd406a0b",
   "metadata": {},
   "outputs": [],
   "source": [
    "df_aug_to_nov_2020.to_csv('2020/aug_to_nov_2020.csv', index=False)"
   ]
  },
  {
   "cell_type": "code",
   "execution_count": 16,
   "id": "10335e69",
   "metadata": {},
   "outputs": [],
   "source": [
    "df_aug_to_nov_2020_ft = df_aug_to_nov_2020[features]\n",
    "df_jan_to_jul_2020_ft = df_jan_to_jul_2020[features]"
   ]
  },
  {
   "cell_type": "code",
   "execution_count": 17,
   "id": "be30d8c2",
   "metadata": {},
   "outputs": [],
   "source": [
    "df_2020_features = pd.concat([df_jan_to_jul_2020_ft, df_aug_to_nov_2020_ft])"
   ]
  },
  {
   "cell_type": "code",
   "execution_count": 19,
   "id": "b3281261",
   "metadata": {},
   "outputs": [
    {
     "data": {
      "text/plain": [
       "array([ 7,  6,  5,  4,  3,  2,  1,  8,  9, 10, 11])"
      ]
     },
     "execution_count": 19,
     "metadata": {},
     "output_type": "execute_result"
    }
   ],
   "source": [
    "df_2020_features['month'].unique()"
   ]
  },
  {
   "cell_type": "code",
   "execution_count": 20,
   "id": "25595755",
   "metadata": {},
   "outputs": [
    {
     "name": "stderr",
     "output_type": "stream",
     "text": [
      "/Users/elee/.pyenv/versions/3.8.11/lib/python3.8/site-packages/IPython/core/interactiveshell.py:3441: DtypeWarning: Columns (1) have mixed types.Specify dtype option on import or set low_memory=False.\n",
      "  exec(code_obj, self.user_global_ns, self.user_ns)\n"
     ]
    }
   ],
   "source": [
    "df_2021 = pd.read_csv('2021/provider_info_2021.csv')"
   ]
  },
  {
   "cell_type": "code",
   "execution_count": 21,
   "id": "318426ab",
   "metadata": {},
   "outputs": [],
   "source": [
    "df_2021_features = df_2021[features]"
   ]
  },
  {
   "cell_type": "code",
   "execution_count": 22,
   "id": "c0201a8d",
   "metadata": {},
   "outputs": [
    {
     "data": {
      "text/plain": [
       "array([7, 6, 5, 4, 3, 2, 1])"
      ]
     },
     "execution_count": 22,
     "metadata": {},
     "output_type": "execute_result"
    }
   ],
   "source": [
    "df_2021_features['month'].unique()"
   ]
  },
  {
   "cell_type": "code",
   "execution_count": 23,
   "id": "83eda0ba",
   "metadata": {},
   "outputs": [],
   "source": [
    "df_all = pd.concat([df_2020_features, df_2021_features])"
   ]
  },
  {
   "cell_type": "code",
   "execution_count": 24,
   "id": "0440ece0",
   "metadata": {},
   "outputs": [],
   "source": [
    "df_all.to_csv('2020_to_2021_features.csv', index=False)"
   ]
  },
  {
   "cell_type": "code",
   "execution_count": null,
   "id": "fa0ea019",
   "metadata": {},
   "outputs": [],
   "source": []
  }
 ],
 "metadata": {
  "kernelspec": {
   "display_name": "Python 3 (ipykernel)",
   "language": "python",
   "name": "python3"
  },
  "language_info": {
   "codemirror_mode": {
    "name": "ipython",
    "version": 3
   },
   "file_extension": ".py",
   "mimetype": "text/x-python",
   "name": "python",
   "nbconvert_exporter": "python",
   "pygments_lexer": "ipython3",
   "version": "3.8.11"
  }
 },
 "nbformat": 4,
 "nbformat_minor": 5
}
