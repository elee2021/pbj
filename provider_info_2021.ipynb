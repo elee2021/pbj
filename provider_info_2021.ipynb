{
 "cells": [
  {
   "cell_type": "code",
   "execution_count": 4,
   "id": "062c92bd",
   "metadata": {},
   "outputs": [],
   "source": [
    "import pandas as pd"
   ]
  },
  {
   "cell_type": "code",
   "execution_count": 11,
   "id": "d7fe05a2",
   "metadata": {},
   "outputs": [],
   "source": [
    "df_07_21 = pd.read_csv(\"2021/NH_ProviderInfo_Jul2021.csv\", sep=\",\", encoding='cp1252')\n",
    "df_06_21 = pd.read_csv(\"2021/NH_ProviderInfo_Jun2021.csv\", sep=\",\", encoding='cp1252')\n",
    "df_05_21 = pd.read_csv(\"2021/NH_ProviderInfo_May2021.csv\", sep=\",\", encoding='cp1252')\n",
    "df_04_21 = pd.read_csv(\"2021/NH_ProviderInfo_Apr2021.csv\", sep=\",\", encoding='cp1252')\n",
    "df_03_21 = pd.read_csv(\"2021/NH_ProviderInfo_Mar2021.csv\", sep=\",\", encoding='cp1252')\n",
    "df_02_21 = pd.read_csv(\"2021/NH_ProviderInfo_Feb2021.csv\", sep=\",\", encoding='cp1252')\n",
    "df_01_21 = pd.read_csv(\"2021/NH_ProviderInfo_Jan2021.csv\", sep=\",\", encoding='cp1252')"
   ]
  },
  {
   "cell_type": "code",
   "execution_count": 29,
   "id": "1724b648",
   "metadata": {},
   "outputs": [],
   "source": [
    "df_01_21['year'] = 2021\n",
    "df_01_21['month'] = 1"
   ]
  },
  {
   "cell_type": "code",
   "execution_count": 42,
   "id": "f9d62929",
   "metadata": {},
   "outputs": [],
   "source": [
    "df_2021 = pd.concat([df_07_21, df_06_21, df_05_21, df_04_21, df_03_21, df_02_21, df_01_21])"
   ]
  },
  {
   "cell_type": "code",
   "execution_count": 32,
   "id": "c7a102b0",
   "metadata": {},
   "outputs": [
    {
     "data": {
      "text/plain": [
       "False"
      ]
     },
     "execution_count": 32,
     "metadata": {},
     "output_type": "execute_result"
    }
   ],
   "source": [
    "assert len(df_07_21) + len(df_06_21) + len(df_05_21) + len(df_04_21)\n",
    "+ len(df_03_21) + len(df_02_21) + len(df_01_21) == len(df_2021)"
   ]
  },
  {
   "cell_type": "code",
   "execution_count": 34,
   "id": "d685d58b",
   "metadata": {},
   "outputs": [
    {
     "data": {
      "text/plain": [
       "107245"
      ]
     },
     "execution_count": 34,
     "metadata": {},
     "output_type": "execute_result"
    }
   ],
   "source": [
    "len(df_07_21) + len(df_06_21) + len(df_05_21) + len(df_04_21) + len(df_03_21) + len(df_02_21) + len(df_01_21)"
   ]
  },
  {
   "cell_type": "code",
   "execution_count": 36,
   "id": "c44a3a5c",
   "metadata": {},
   "outputs": [],
   "source": [
    "df_2021.to_csv('2021/provider_info_2021.csv')"
   ]
  },
  {
   "cell_type": "code",
   "execution_count": 40,
   "id": "ec07a053",
   "metadata": {},
   "outputs": [],
   "source": [
    "df_ca_2021 = df_2021[df_2021['Provider State'] == 'CA']"
   ]
  },
  {
   "cell_type": "code",
   "execution_count": 39,
   "id": "69dac8b8",
   "metadata": {},
   "outputs": [],
   "source": [
    "df_ca_2021.to_csv('2021/provider_info_ca_2021.csv')"
   ]
  },
  {
   "cell_type": "code",
   "execution_count": 43,
   "id": "82ab7565",
   "metadata": {},
   "outputs": [
    {
     "data": {
      "text/plain": [
       "Index(['Federal Provider Number', 'Provider Name', 'Provider Address',\n",
       "       'Provider City', 'Provider State', 'Provider Zip Code',\n",
       "       'Provider Phone Number', 'Provider SSA County Code',\n",
       "       'Provider County Name', 'Ownership Type', 'Number of Certified Beds',\n",
       "       'Average Number of Residents per Day',\n",
       "       'Average Number of Residents per Day Footnote', 'Provider Type',\n",
       "       'Provider Resides in Hospital', 'Legal Business Name',\n",
       "       'Date First Approved to Provide Medicare and Medicaid Services',\n",
       "       'Continuing Care Retirement Community', 'Special Focus Status',\n",
       "       'Abuse Icon', 'Most Recent Health Inspection More Than 2 Years Ago',\n",
       "       'Provider Changed Ownership in Last 12 Months',\n",
       "       'With a Resident and Family Council',\n",
       "       'Automatic Sprinkler Systems in All Required Areas', 'Overall Rating',\n",
       "       'Overall Rating Footnote', 'Health Inspection Rating',\n",
       "       'Health Inspection Rating Footnote', 'QM Rating', 'QM Rating Footnote',\n",
       "       'Long-Stay QM Rating', 'Long-Stay QM Rating Footnote',\n",
       "       'Short-Stay QM Rating', 'Short-Stay QM Rating Footnote',\n",
       "       'Staffing Rating', 'Staffing Rating Footnote', 'RN Staffing Rating',\n",
       "       'RN Staffing Rating Footnote', 'Reported Staffing Footnote',\n",
       "       'Physical Therapist Staffing Footnote',\n",
       "       'Reported Nurse Aide Staffing Hours per Resident per Day',\n",
       "       'Reported LPN Staffing Hours per Resident per Day',\n",
       "       'Reported RN Staffing Hours per Resident per Day',\n",
       "       'Reported Licensed Staffing Hours per Resident per Day',\n",
       "       'Reported Total Nurse Staffing Hours per Resident per Day',\n",
       "       'Reported Physical Therapist Staffing Hours per Resident Per Day',\n",
       "       'Case-Mix Nurse Aide Staffing Hours per Resident per Day',\n",
       "       'Case-Mix LPN Staffing Hours per Resident per Day',\n",
       "       'Case-Mix RN Staffing Hours per Resident per Day',\n",
       "       'Case-Mix Total Nurse Staffing Hours per Resident per Day',\n",
       "       'Adjusted Nurse Aide Staffing Hours per Resident per Day',\n",
       "       'Adjusted LPN Staffing Hours per Resident per Day',\n",
       "       'Adjusted RN Staffing Hours per Resident per Day',\n",
       "       'Adjusted Total Nurse Staffing Hours per Resident per Day',\n",
       "       'Rating Cycle 1 Standard Survey Health Date',\n",
       "       'Rating Cycle 1 Total Number of Health Deficiencies',\n",
       "       'Rating Cycle 1 Number of Standard Health Deficiencies',\n",
       "       'Rating Cycle 1 Number of Complaint Health Deficiencies',\n",
       "       'Rating Cycle 1 Health Deficiency Score',\n",
       "       'Rating Cycle 1 Number of Health Revisits',\n",
       "       'Rating Cycle 1 Health Revisit Score',\n",
       "       'Rating Cycle 1 Total Health Score',\n",
       "       'Rating Cycle 2 Standard Health Survey Date',\n",
       "       'Rating Cycle 2 Total Number of Health Deficiencies',\n",
       "       'Rating Cycle 2 Number of Standard Health Deficiencies',\n",
       "       'Rating Cycle 2 Number of Complaint Health Deficiencies',\n",
       "       'Rating Cycle 2 Health Deficiency Score',\n",
       "       'Rating Cycle 2 Number of Health Revisits',\n",
       "       'Rating Cycle 2 Health Revisit Score',\n",
       "       'Rating Cycle 2 Total Health Score',\n",
       "       'Rating Cycle 3 Standard Health Survey Date',\n",
       "       'Rating Cycle 3 Total Number of Health Deficiencies',\n",
       "       'Rating Cycle 3 Number of Standard Health Deficiencies',\n",
       "       'Rating Cycle 3 Number of Complaint Health Deficiencies',\n",
       "       'Rating Cycle 3 Health Deficiency Score',\n",
       "       'Rating Cycle 3 Number of Health Revisits',\n",
       "       'Rating Cycle 3 Health Revisit Score',\n",
       "       'Rating Cycle 3 Total Health Score',\n",
       "       'Total Weighted Health Survey Score',\n",
       "       'Number of Facility Reported Incidents',\n",
       "       'Number of Substantiated Complaints',\n",
       "       'Number of Citations from Infection Control Inspections',\n",
       "       'Number of Fines', 'Total Amount of Fines in Dollars',\n",
       "       'Number of Payment Denials', 'Total Number of Penalties', 'Location',\n",
       "       'Processing Date', 'year', 'month'],\n",
       "      dtype='object')"
      ]
     },
     "execution_count": 43,
     "metadata": {},
     "output_type": "execute_result"
    }
   ],
   "source": [
    "df_ca_2021.columns"
   ]
  },
  {
   "cell_type": "code",
   "execution_count": 9,
   "id": "b78d3590",
   "metadata": {},
   "outputs": [
    {
     "name": "stderr",
     "output_type": "stream",
     "text": [
      "/var/folders/pg/m6t364yd5yl9c8mcnhmr67y40000gn/T/ipykernel_2277/3385610658.py:1: SettingWithCopyWarning: \n",
      "A value is trying to be set on a copy of a slice from a DataFrame.\n",
      "Try using .loc[row_indexer,col_indexer] = value instead\n",
      "\n",
      "See the caveats in the documentation: https://pandas.pydata.org/pandas-docs/stable/user_guide/indexing.html#returning-a-view-versus-a-copy\n",
      "  df_ca['bed_occupancy'] = df_ca['Average Number of Residents per Day'] / df_ca['Number of Certified Beds']\n"
     ]
    }
   ],
   "source": [
    "df_ca['bed_occupancy'] = df_ca['Average Number of Residents per Day'] / df_ca['Number of Certified Beds']"
   ]
  },
  {
   "cell_type": "code",
   "execution_count": 10,
   "id": "2fed3692",
   "metadata": {},
   "outputs": [
    {
     "data": {
      "text/html": [
       "<div>\n",
       "<style scoped>\n",
       "    .dataframe tbody tr th:only-of-type {\n",
       "        vertical-align: middle;\n",
       "    }\n",
       "\n",
       "    .dataframe tbody tr th {\n",
       "        vertical-align: top;\n",
       "    }\n",
       "\n",
       "    .dataframe thead th {\n",
       "        text-align: right;\n",
       "    }\n",
       "</style>\n",
       "<table border=\"1\" class=\"dataframe\">\n",
       "  <thead>\n",
       "    <tr style=\"text-align: right;\">\n",
       "      <th></th>\n",
       "      <th>Average Number of Residents per Day</th>\n",
       "      <th>Number of Certified Beds</th>\n",
       "      <th>bed_occupancy</th>\n",
       "    </tr>\n",
       "  </thead>\n",
       "  <tbody>\n",
       "    <tr>\n",
       "      <th>count</th>\n",
       "      <td>1175.000000</td>\n",
       "      <td>1184.000000</td>\n",
       "      <td>1175.000000</td>\n",
       "    </tr>\n",
       "    <tr>\n",
       "      <th>mean</th>\n",
       "      <td>72.581617</td>\n",
       "      <td>99.121622</td>\n",
       "      <td>0.733702</td>\n",
       "    </tr>\n",
       "    <tr>\n",
       "      <th>std</th>\n",
       "      <td>43.729359</td>\n",
       "      <td>55.135907</td>\n",
       "      <td>0.162244</td>\n",
       "    </tr>\n",
       "    <tr>\n",
       "      <th>min</th>\n",
       "      <td>2.000000</td>\n",
       "      <td>6.000000</td>\n",
       "      <td>0.083333</td>\n",
       "    </tr>\n",
       "    <tr>\n",
       "      <th>25%</th>\n",
       "      <td>45.000000</td>\n",
       "      <td>59.000000</td>\n",
       "      <td>0.646215</td>\n",
       "    </tr>\n",
       "    <tr>\n",
       "      <th>50%</th>\n",
       "      <td>65.800000</td>\n",
       "      <td>98.500000</td>\n",
       "      <td>0.742424</td>\n",
       "    </tr>\n",
       "    <tr>\n",
       "      <th>75%</th>\n",
       "      <td>89.700000</td>\n",
       "      <td>120.000000</td>\n",
       "      <td>0.838176</td>\n",
       "    </tr>\n",
       "    <tr>\n",
       "      <th>max</th>\n",
       "      <td>698.900000</td>\n",
       "      <td>769.000000</td>\n",
       "      <td>3.066667</td>\n",
       "    </tr>\n",
       "  </tbody>\n",
       "</table>\n",
       "</div>"
      ],
      "text/plain": [
       "       Average Number of Residents per Day  Number of Certified Beds  \\\n",
       "count                          1175.000000               1184.000000   \n",
       "mean                             72.581617                 99.121622   \n",
       "std                              43.729359                 55.135907   \n",
       "min                               2.000000                  6.000000   \n",
       "25%                              45.000000                 59.000000   \n",
       "50%                              65.800000                 98.500000   \n",
       "75%                              89.700000                120.000000   \n",
       "max                             698.900000                769.000000   \n",
       "\n",
       "       bed_occupancy  \n",
       "count    1175.000000  \n",
       "mean        0.733702  \n",
       "std         0.162244  \n",
       "min         0.083333  \n",
       "25%         0.646215  \n",
       "50%         0.742424  \n",
       "75%         0.838176  \n",
       "max         3.066667  "
      ]
     },
     "execution_count": 10,
     "metadata": {},
     "output_type": "execute_result"
    }
   ],
   "source": [
    "df_ca[['Average Number of Residents per Day','Number of Certified Beds', 'bed_occupancy']].describe()"
   ]
  },
  {
   "cell_type": "code",
   "execution_count": 41,
   "id": "d428e8f5",
   "metadata": {},
   "outputs": [
    {
     "data": {
      "text/plain": [
       "8298"
      ]
     },
     "execution_count": 41,
     "metadata": {},
     "output_type": "execute_result"
    }
   ],
   "source": [
    "len(df_ca_2021)"
   ]
  },
  {
   "cell_type": "code",
   "execution_count": null,
   "id": "5b5f816d",
   "metadata": {},
   "outputs": [],
   "source": []
  }
 ],
 "metadata": {
  "kernelspec": {
   "display_name": "Python 3 (ipykernel)",
   "language": "python",
   "name": "python3"
  },
  "language_info": {
   "codemirror_mode": {
    "name": "ipython",
    "version": 3
   },
   "file_extension": ".py",
   "mimetype": "text/x-python",
   "name": "python",
   "nbconvert_exporter": "python",
   "pygments_lexer": "ipython3",
   "version": "3.8.11"
  }
 },
 "nbformat": 4,
 "nbformat_minor": 5
}
