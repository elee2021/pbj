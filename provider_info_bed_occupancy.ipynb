{
 "cells": [
  {
   "cell_type": "code",
   "execution_count": 2,
   "id": "f90ecbef",
   "metadata": {},
   "outputs": [],
   "source": [
    "import pandas as pd\n",
    "import numpy as np\n",
    "import seaborn as sns\n",
    "from datetime import date\n",
    "import matplotlib.pyplot as plt"
   ]
  },
  {
   "cell_type": "code",
   "execution_count": 157,
   "id": "449a5238",
   "metadata": {},
   "outputs": [],
   "source": [
    "# df = pd.read_csv('2020_to_2021_features.csv')"
   ]
  },
  {
   "cell_type": "code",
   "execution_count": 5,
   "id": "091951be",
   "metadata": {},
   "outputs": [],
   "source": [
    "ensign_df = pd.read_csv('../cms_provider_info/ensign_facilities.csv')\n",
    "ensign_df = ensign_df.astype({'ccn': str})\n",
    "# df = df.astype({'Federal Provider Number': str})"
   ]
  },
  {
   "cell_type": "code",
   "execution_count": 111,
   "id": "974e44ad",
   "metadata": {},
   "outputs": [],
   "source": [
    "prov_nums = ensign_df['ccn'].squeeze().squeeze().tolist()"
   ]
  },
  {
   "cell_type": "code",
   "execution_count": 112,
   "id": "68d9b90f",
   "metadata": {},
   "outputs": [],
   "source": [
    "final_nums = []\n",
    "for n in prov_nums:\n",
    "    if len(n) < 6:\n",
    "        n = '0' + n\n",
    "    final_nums.append(n)"
   ]
  },
  {
   "cell_type": "code",
   "execution_count": 113,
   "id": "5c00931a",
   "metadata": {},
   "outputs": [
    {
     "data": {
      "text/plain": [
       "['455754',\n",
       " '455637',\n",
       " '675689',\n",
       " '455934',\n",
       " '455934',\n",
       " '455745',\n",
       " '675901',\n",
       " '675901',\n",
       " '675972',\n",
       " '675272',\n",
       " '675272',\n",
       " '675560',\n",
       " '675962',\n",
       " '675081',\n",
       " '675081',\n",
       " '455625',\n",
       " '455925',\n",
       " '455586',\n",
       " '675111',\n",
       " '675593',\n",
       " '675593',\n",
       " '675743',\n",
       " '676190',\n",
       " '455576',\n",
       " '676010',\n",
       " '676010',\n",
       " '675651',\n",
       " '675766',\n",
       " '676395',\n",
       " '675925',\n",
       " '675645',\n",
       " '676081',\n",
       " '676194',\n",
       " '676251',\n",
       " '676137',\n",
       " '676230',\n",
       " '676253',\n",
       " '676029',\n",
       " '676048',\n",
       " '676220',\n",
       " '675774',\n",
       " '676272',\n",
       " '676049',\n",
       " '676238',\n",
       " '676158',\n",
       " '676113',\n",
       " '676312',\n",
       " '676042',\n",
       " '676392',\n",
       " '676421',\n",
       " '555070',\n",
       " '056364',\n",
       " '055706',\n",
       " '055430',\n",
       " '056337',\n",
       " '056360',\n",
       " '505074',\n",
       " '056411',\n",
       " '056328',\n",
       " '056215',\n",
       " '055756',\n",
       " '055987',\n",
       " '055734',\n",
       " '055744',\n",
       " '055353',\n",
       " '055182',\n",
       " '056014',\n",
       " '056104',\n",
       " '055237',\n",
       " '555249',\n",
       " '055067',\n",
       " '056372',\n",
       " '055394',\n",
       " '055505',\n",
       " '555425',\n",
       " '555478',\n",
       " '555458',\n",
       " '055374',\n",
       " '555257',\n",
       " '555796',\n",
       " '555770',\n",
       " '555326',\n",
       " '505081',\n",
       " '505434',\n",
       " '465069',\n",
       " '465072',\n",
       " '135011',\n",
       " '465109',\n",
       " '465100',\n",
       " '465091',\n",
       " '465104',\n",
       " '555613',\n",
       " '465119',\n",
       " '465108',\n",
       " '465098',\n",
       " '135068',\n",
       " '135020',\n",
       " '465095',\n",
       " '056360',\n",
       " '056360',\n",
       " '056360',\n",
       " '465101',\n",
       " '555739',\n",
       " '295020',\n",
       " '135018',\n",
       " '035088',\n",
       " '035151',\n",
       " '035092',\n",
       " '035014',\n",
       " '035190',\n",
       " '035135',\n",
       " '035132',\n",
       " '035174',\n",
       " '035087',\n",
       " '035076',\n",
       " '035245',\n",
       " '035159',\n",
       " '035070',\n",
       " '035103',\n",
       " '035189',\n",
       " '035131',\n",
       " '035232',\n",
       " '035083',\n",
       " '035111',\n",
       " '035241',\n",
       " '035164',\n",
       " '035068',\n",
       " '035110',\n",
       " '035144',\n",
       " '035072',\n",
       " '035183',\n",
       " '035171',\n",
       " '555258',\n",
       " '455672',\n",
       " '135105',\n",
       " '465115',\n",
       " '035297',\n",
       " '676331',\n",
       " '676250',\n",
       " '676281',\n",
       " '675282',\n",
       " '675808',\n",
       " '065322',\n",
       " '065320',\n",
       " '065321',\n",
       " '065404',\n",
       " '065077',\n",
       " '065417',\n",
       " '065100',\n",
       " '065108',\n",
       " '065113',\n",
       " '675579',\n",
       " '455904',\n",
       " '675597',\n",
       " '675889',\n",
       " '675933',\n",
       " '455732',\n",
       " '676023',\n",
       " '555875',\n",
       " '035071',\n",
       " '455969',\n",
       " '065283',\n",
       " '065318',\n",
       " '035106',\n",
       " '056182',\n",
       " '055689',\n",
       " '056267',\n",
       " '455960',\n",
       " '455689',\n",
       " '065265',\n",
       " '065222',\n",
       " '065230',\n",
       " '676459',\n",
       " '676432',\n",
       " '505315',\n",
       " '505262',\n",
       " '505347',\n",
       " '505206',\n",
       " '285183',\n",
       " '285130',\n",
       " '285055',\n",
       " '285135',\n",
       " '165428',\n",
       " '165444',\n",
       " '165245',\n",
       " '165362',\n",
       " '165156',\n",
       " '285240',\n",
       " '525497',\n",
       " '525348',\n",
       " '285238',\n",
       " '165268',\n",
       " '135134',\n",
       " '135125',\n",
       " '175332',\n",
       " '175332',\n",
       " '465143',\n",
       " '555765',\n",
       " '055570',\n",
       " '055830',\n",
       " '555259',\n",
       " '055519',\n",
       " '135087',\n",
       " '135129',\n",
       " '505181',\n",
       " '505407',\n",
       " '505294',\n",
       " '505243',\n",
       " '505304',\n",
       " '175548',\n",
       " '175551',\n",
       " '175550',\n",
       " '055890',\n",
       " '555804',\n",
       " '555596',\n",
       " '555871',\n",
       " '055632',\n",
       " '555545',\n",
       " '056401',\n",
       " '555873',\n",
       " '505325',\n",
       " '465160',\n",
       " '465064',\n",
       " '465009',\n",
       " '035101',\n",
       " '035105',\n",
       " '425105',\n",
       " '425379',\n",
       " '425391',\n",
       " '425159',\n",
       " '175558',\n",
       " '175555',\n",
       " '175298',\n",
       " '676413',\n",
       " '676426',\n",
       " '675509',\n",
       " '465188',\n",
       " '465003',\n",
       " '135076',\n",
       " '675611',\n",
       " '135082']"
      ]
     },
     "execution_count": 113,
     "metadata": {},
     "output_type": "execute_result"
    }
   ],
   "source": [
    "final_nums"
   ]
  },
  {
   "cell_type": "code",
   "execution_count": 114,
   "id": "5c3ec1fb",
   "metadata": {},
   "outputs": [
    {
     "data": {
      "text/plain": [
       "241"
      ]
     },
     "execution_count": 114,
     "metadata": {},
     "output_type": "execute_result"
    }
   ],
   "source": [
    "len(final_nums)"
   ]
  },
  {
   "cell_type": "code",
   "execution_count": 115,
   "id": "a8b9607f",
   "metadata": {},
   "outputs": [],
   "source": [
    "df['ensign'] = df['Federal Provider Number'].isin(final_nums)"
   ]
  },
  {
   "cell_type": "code",
   "execution_count": 158,
   "id": "779da925",
   "metadata": {},
   "outputs": [],
   "source": [
    "df['occupancy'] = df['Average Number of Residents per Day']/df['Number of Certified Beds']"
   ]
  },
  {
   "cell_type": "code",
   "execution_count": 159,
   "id": "fcb05ee2",
   "metadata": {},
   "outputs": [],
   "source": [
    "ensign_snf_df = df[df['ensign'] == True]"
   ]
  },
  {
   "cell_type": "code",
   "execution_count": 160,
   "id": "9cba4ffd",
   "metadata": {},
   "outputs": [
    {
     "data": {
      "text/plain": [
       "Index(['Federal Provider Number', 'Provider Name', 'Provider City',\n",
       "       'Provider State', 'Provider Zip Code', 'Provider SSA County Code',\n",
       "       'Provider County Name', 'Ownership Type', 'Number of Certified Beds',\n",
       "       'Average Number of Residents per Day', 'Provider Type', 'month', 'year',\n",
       "       'ensign', 'occupancy'],\n",
       "      dtype='object')"
      ]
     },
     "execution_count": 160,
     "metadata": {},
     "output_type": "execute_result"
    }
   ],
   "source": [
    "ensign_snf_df.columns"
   ]
  },
  {
   "cell_type": "code",
   "execution_count": 144,
   "id": "a8d3dce5",
   "metadata": {},
   "outputs": [],
   "source": [
    "# x = final_nums\n",
    "# x.sort()\n",
    "# no_repeat_nums = []\n",
    "# for i in range(len(x)-1, 0, -1):\n",
    "#     if x[i] == x[i-1]:\n",
    "#         del x[i]"
   ]
  },
  {
   "cell_type": "code",
   "execution_count": 161,
   "id": "99eda799",
   "metadata": {},
   "outputs": [],
   "source": [
    "# ensign_snf_df.to_csv('ensign_snf_2020_to_2021.csv', index = False)\n",
    "# df.to_csv('2020_to_2021_all_features.csv', index = False)"
   ]
  },
  {
   "cell_type": "code",
   "execution_count": 162,
   "id": "c340728a",
   "metadata": {},
   "outputs": [],
   "source": [
    "df_ca = df[df['Provider State'] == 'CA']"
   ]
  },
  {
   "cell_type": "code",
   "execution_count": 163,
   "id": "0d5ef2de",
   "metadata": {},
   "outputs": [],
   "source": [
    "ensign_ca = ensign_snf_df[ensign_snf_df['Provider State'] == 'CA']"
   ]
  },
  {
   "cell_type": "code",
   "execution_count": 164,
   "id": "6b2305ac",
   "metadata": {},
   "outputs": [],
   "source": [
    "ensign_ca.to_csv('ensign_snf/ensign_ca_2020_to_2021.csv', index = False) "
   ]
  },
  {
   "cell_type": "code",
   "execution_count": 165,
   "id": "95901460",
   "metadata": {},
   "outputs": [],
   "source": [
    "df_ca.to_csv('all_us_snf/all_ca_2020_to_2021.csv', index=False)"
   ]
  },
  {
   "cell_type": "code",
   "execution_count": 4,
   "id": "b1d7a55f",
   "metadata": {},
   "outputs": [],
   "source": [
    "# nationwide, 3206 rows with occupancy > 100%\n",
    "df[df['occupancy'] > 1].count()\n",
    "\n",
    "# include occupancy <= 1 only\n",
    "df_occupancy = df[df['occupancy'] <=1]"
   ]
  },
  {
   "cell_type": "code",
   "execution_count": 5,
   "id": "887d8323",
   "metadata": {},
   "outputs": [],
   "source": [
    "df_2020 = df_occupancy[df_occupancy['year'] == 2020]\n",
    "df_2021 = df_occupancy[df_occupancy['year'] == 2021]"
   ]
  },
  {
   "cell_type": "code",
   "execution_count": 6,
   "id": "34d19bd8",
   "metadata": {},
   "outputs": [
    {
     "data": {
      "text/plain": [
       "76"
      ]
     },
     "execution_count": 6,
     "metadata": {},
     "output_type": "execute_result"
    }
   ],
   "source": [
    "# facilities with occupancy > 100% - 389 rows\n",
    "df_ca[df_ca['occupancy'] > 1]['Federal Provider Number'].nunique()"
   ]
  },
  {
   "cell_type": "code",
   "execution_count": 7,
   "id": "07801bba",
   "metadata": {},
   "outputs": [],
   "source": [
    "df_ca_occupancy = df_ca[df_ca['occupancy'] <= 1]"
   ]
  },
  {
   "cell_type": "code",
   "execution_count": 8,
   "id": "f2a7fb65",
   "metadata": {},
   "outputs": [],
   "source": [
    "df_ca_2020 = df_ca_occupancy[df_ca_occupancy['year'] == 2020]\n",
    "df_ca_2021 = df_ca_occupancy[df_ca_occupancy['year'] == 2021]"
   ]
  },
  {
   "cell_type": "code",
   "execution_count": 9,
   "id": "444fe0d5",
   "metadata": {},
   "outputs": [
    {
     "data": {
      "text/plain": [
       "count    12754.000000\n",
       "mean         0.851200\n",
       "std          0.121018\n",
       "min          0.012935\n",
       "25%          0.806976\n",
       "50%          0.886364\n",
       "75%          0.933014\n",
       "max          1.000000\n",
       "Name: occupancy, dtype: float64"
      ]
     },
     "execution_count": 9,
     "metadata": {},
     "output_type": "execute_result"
    }
   ],
   "source": [
    "df_ca_2020['occupancy'].describe()"
   ]
  },
  {
   "cell_type": "code",
   "execution_count": 10,
   "id": "eeedff8c",
   "metadata": {},
   "outputs": [
    {
     "data": {
      "text/plain": [
       "count    8159.000000\n",
       "mean        0.744089\n",
       "std         0.140357\n",
       "min         0.010417\n",
       "25%         0.661017\n",
       "50%         0.764078\n",
       "75%         0.844928\n",
       "max         1.000000\n",
       "Name: occupancy, dtype: float64"
      ]
     },
     "execution_count": 10,
     "metadata": {},
     "output_type": "execute_result"
    }
   ],
   "source": [
    "df_ca_2021['occupancy'].describe()"
   ]
  },
  {
   "cell_type": "code",
   "execution_count": 11,
   "id": "39f6c9d6",
   "metadata": {},
   "outputs": [
    {
     "data": {
      "text/plain": [
       "Text(0.5, 0, 'certified bed occupancy')"
      ]
     },
     "execution_count": 11,
     "metadata": {},
     "output_type": "execute_result"
    },
    {
     "data": {
      "image/png": "[encoded data removed]",
      "text/plain": [
       "<Figure size 864x288 with 2 Axes>"
      ]
     },
     "metadata": {
      "needs_background": "light"
     },
     "output_type": "display_data"
    }
   ],
   "source": [
    "fig, axes = plt.subplots(1, 2, figsize=(12,4))\n",
    "df_2020.hist('occupancy', bins=np.arange(0, df_2020['occupancy'].max() + 0.1, 0.05) , ax=axes[0])\n",
    "axes[0].set_title('2020 occupancy - all US')\n",
    "axes[0].set_xlabel('certified bed occupancy')\n",
    "df_2021.hist('occupancy', bins=np.arange(0, df_2021['occupancy'].max() + 0.1, 0.05) , ax=axes[1])\n",
    "axes[1].set_title('2021 occupancy - all US')\n",
    "axes[1].set_xlabel('certified bed occupancy')"
   ]
  },
  {
   "cell_type": "code",
   "execution_count": 12,
   "id": "d831160b",
   "metadata": {},
   "outputs": [
    {
     "data": {
      "text/plain": [
       "Text(0.5, 0, 'certified bed occupancy')"
      ]
     },
     "execution_count": 12,
     "metadata": {},
     "output_type": "execute_result"
    },
    {
     "data": {
      "image/png": "[encoded data removed]",
      "text/plain": [
       "<Figure size 864x288 with 2 Axes>"
      ]
     },
     "metadata": {
      "needs_background": "light"
     },
     "output_type": "display_data"
    }
   ],
   "source": [
    "fig, axes = plt.subplots(1, 2, figsize=(12,4))\n",
    "df_ca_2020.hist('occupancy', bins=np.arange(0, df_ca_2020['occupancy'].max() + 0.1, 0.05) , ax=axes[0])\n",
    "axes[0].set_title('2020 CA occupancy')\n",
    "axes[0].set_xlabel('certified bed occupancy')\n",
    "df_ca_2021.hist('occupancy', bins=np.arange(0, df_ca_2021['occupancy'].max() + 0.1, 0.05) , ax=axes[1])\n",
    "axes[1].set_title('2021 CA occupancy')\n",
    "axes[1].set_xlabel('certified bed occupancy')"
   ]
  },
  {
   "cell_type": "code",
   "execution_count": 13,
   "id": "c2ec8846",
   "metadata": {},
   "outputs": [
    {
     "data": {
      "image/png": "[encoded data removed]",
      "text/plain": [
       "<Figure size 1440x576 with 1 Axes>"
      ]
     },
     "metadata": {},
     "output_type": "display_data"
    }
   ],
   "source": [
    "sns.set(rc={\"figure.figsize\":(20, 8)})\n",
    "df_ca_2020.groupby('month')['occupancy'].mean().plot(xticks=np.arange(1,12), yticks=np.arange(0.7, 0.9, 0.05),\n",
    "                                                     title= '2020 CA nursing homes certified bed occupancy rate by month', legend=True);"
   ]
  },
  {
   "cell_type": "code",
   "execution_count": 14,
   "id": "79fb19e7",
   "metadata": {},
   "outputs": [
    {
     "data": {
      "image/png": "[encoded data removed]",
      "text/plain": [
       "<Figure size 1440x576 with 1 Axes>"
      ]
     },
     "metadata": {},
     "output_type": "display_data"
    }
   ],
   "source": [
    "df_ca_2021.groupby('month')['occupancy'].mean().plot(xticks=np.arange(1,8), yticks=np.arange(0.7, 0.9, 0.05),\n",
    "                                                     title='2021 CA nursing homes certified bed occupancy rate by month', legend=True);"
   ]
  },
  {
   "cell_type": "code",
   "execution_count": null,
   "id": "acc69764",
   "metadata": {},
   "outputs": [],
   "source": []
  }
 ],
 "metadata": {
  "kernelspec": {
   "display_name": "Python 3 (ipykernel)",
   "language": "python",
   "name": "python3"
  },
  "language_info": {
   "codemirror_mode": {
    "name": "ipython",
    "version": 3
   },
   "file_extension": ".py",
   "mimetype": "text/x-python",
   "name": "python",
   "nbconvert_exporter": "python",
   "pygments_lexer": "ipython3",
   "version": "3.8.11"
  }
 },
 "nbformat": 4,
 "nbformat_minor": 5
}
